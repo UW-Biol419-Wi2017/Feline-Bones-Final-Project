{
 "cells": [
  {
   "cell_type": "markdown",
   "metadata": {},
   "source": [
    "JUPYTER NOTEBOOK FOR FELINE DATA ANALYSIS"
   ]
  },
  {
   "cell_type": "code",
   "execution_count": 3,
   "metadata": {
    "collapsed": false
   },
   "outputs": [
    {
     "name": "stdout",
     "output_type": "stream",
     "text": [
      "The Cranial dataset has (77,) unique species, and (338, 52) samples.\n",
      "The Forelimb dataset has (95,) unique species, and (323, 61) samples.\n",
      "[62.2 67.2 nan 66.5 63.5 70.6 71.7 79.5 78.7 64.7 67.6 41.6 44.0 46.6 46.2\n",
      " 48.7 49.0 48.6 51.1 63.1 30.4 36.1 46.8 44.3 47.4 50.3 48.9 49.4 55.0 54.9\n",
      " 58.1 35.1 34.4 35.6 36.4 36.8 36.4 41.9 43.5 42.2 39.0 28.1 32.3 31.6 32.3\n",
      " 28.2 28.7 29.9 30.3 31.9 31.6 32.6 32.0 32.1 37.6 36.7 38.1 38.1 39.1 35.1\n",
      " 33.5 35.1 36.4 37.5 36.6 37.1 38.8 42.6 34.3 46.1 45.8 48.3 50.6 52.7 52.7\n",
      " 53.5 46.2 48.7 29.2 28.1 28.7 33.5 30.3 31.4 30.9 32.1 30.2 33.1 32.2 36.2\n",
      " 36.9 35.7 36.1 26.8 31.4 35.5 45.1 45.4 43.8 46.7 46.5 52.4 40.7 43.7 43.3\n",
      " 43.0 46.2 43.9 47.0 49.6 49.7 47.4 48.4 47.9 53.9 56.2 58.9 62.2 46.1 52.6\n",
      " 41.7 47.9 51.4 52.0 50.7 42.3 43.3 42.6 47.5 47.3 45.8 46.9 50.0 42.4 51.3\n",
      " 53.9 64.5 67.3 70.3 67.2 73.6 74.0 58.4 69.8 35.0 36.3 35.7 35.6 31.0 38.2\n",
      " 31.4 34.3 34.5 30.7 34.4 35.4 35.0 37.1 35.5 35.0 34.5 33.6 39.4 31.8 30.5\n",
      " 35.5 37.8 32.6 29.3 33.9 32.7 33.8 35.2 34.3 34.5 36.4 34.7 114.9 129.7\n",
      " 122.5 129.7 125.6 149.5 143.1 157.0 155.7 157.5 173.4 82.8 81.1 90.2 92.8\n",
      " 93.9 103.7 112.5 83.9 92.9 101.8 83.7 77.2 83.4 86.0 85.3 94.9 90.2 97.1\n",
      " 109.9 100.1 101.0 112.0 123.7 124.7 129.9 140.4 130.4 150.8 140.2 139.4\n",
      " 152.8 137.9 151.8 158.5 144.8 160.7 69.8 70.9 73.1 77.4 73.3 76.6 75.3\n",
      " 78.9 80.8 85.4 29.1 31.2 30.1 36.1 34.9 34.2 31.3 37.3 31.6 33.7 31.7 33.1\n",
      " 33.4 36.3 36.8 33.2 35.9 42.4 36.0 35.2 36.9 37.3 37.0 35.2 37.3 38.1 39.4\n",
      " 36.7 39.1 39.5 39.8 26.0 27.2 28.5 28.4 28.5 47.8 46.7 46.7 50.3 50.5 50.3\n",
      " 52.9 53.0 55.0 47.6 56.2 58.8 66.2 68.8 69.2 71.6 78.5 77.9 70.5 73.5 75.3\n",
      " 78.7 80.7 81.6 98.5 90.0 70.9 72.8 72.9 69.9 80.9 76.4 78.6 67.3 80.4 67.4\n",
      " 74.2 59.5 67.3 67.0 70.9 74.2 74.8 82.6 nan 73.8 75.1 82.2 66.3 70.7 69.1\n",
      " 74.6 74.9 78.6 86.0 87.0 91.9 77.9 73.8 78.8 80.8 86.5 86.6 77.7 73.5 74.1\n",
      " 78.7 82.3]\n"
     ]
    }
   ],
   "source": [
    "\n",
    "import numpy as np\n",
    "import pandas as pd\n",
    "%matplotlib inline\n",
    "\n",
    "import os\n",
    "os.getcwd()\n",
    "\n",
    "Cranial = pd.read_csv('/Users/88firefly/Feline-Bones-Final-Project/data/Felidae Cranial Data.csv',delimiter=',')\n",
    "Forelimb= pd.read_csv('/Users/88firefly/Feline-Bones-Final-Project/data/Felidae and Canidae postcranial database.csv',delimiter=',')\n",
    "\n",
    "Forelimb_Data=Forelimb.values[:261,:] #cut out dogs\n",
    "\n",
    "Forelimb_genusID=Forelimb_Data[:,2]\n",
    "Forelimb_speciesID=Forelimb_Data[:,3]\n",
    "Forelimb_sexID=Forelimb_Data[:,4]\n",
    "\n",
    "Cranial_Data=Cranial.values\n",
    "\n",
    "Cranial_genusID=Cranial_Data[:,2]\n",
    "Cranial_speciesID=Cranial_Data[:,3]\n",
    "Cranial_sexID=Cranial_Data[:,4]\n",
    "\n",
    "print(\"The Cranial dataset has\", np.unique(Cranial[['Species']]).shape, \"unique species, and\", Cranial.shape, \"samples.\")\n",
    "print(\"The Forelimb dataset has\", np.unique(Forelimb[['Species']]).shape, \"unique species, and\", Forelimb.shape, \"samples.\")\n"
   ]
  },
  {
   "cell_type": "code",
   "execution_count": 31,
   "metadata": {
    "collapsed": false
   },
   "outputs": [
    {
     "name": "stdout",
     "output_type": "stream",
     "text": [
      "['MVZ' '184066' 'Acinonyx' 'jubatus' 'unknown' 'unknown' nan 278.5 29.8\n",
      " 240.0 16.7 20.8 14.5 30.0 17.0 24.3 15.0 243.6 49.3 15.6 36.3 26.2 27.8\n",
      " 68.3 10.7 14.5 10.2 11.9 5.8 83.7 14.8 14.0 12.6 13.1 8.6 80.5 9.4 13.5\n",
      " 11.0 12.9 8.2 65.0 11.7 10.8 10.0 11.8 5.5 34.5 11.6 10.0 9.8 8.5 7.7 22.2\n",
      " 10.5 8.7 9.8 6.4 5.9 22.3 nan]\n"
     ]
    }
   ],
   "source": [
    "forelimb_edit=Forelimb.values[:261,:]\n",
    "\n",
    "for x in range(0,45):\n",
    "    forelimb_edit[:,-1]=np.nan\n",
    "    forelimb_edit=forelimb_edit\n",
    "print(forelimb_edit[3,:])\n",
    "#[323,45]"
   ]
  },
  {
   "cell_type": "code",
   "execution_count": null,
   "metadata": {
    "collapsed": true
   },
   "outputs": [],
   "source": []
  }
 ],
 "metadata": {
  "anaconda-cloud": {},
  "kernelspec": {
   "display_name": "Python [default]",
   "language": "python",
   "name": "python3"
  },
  "language_info": {
   "codemirror_mode": {
    "name": "ipython",
    "version": 3
   },
   "file_extension": ".py",
   "mimetype": "text/x-python",
   "name": "python",
   "nbconvert_exporter": "python",
   "pygments_lexer": "ipython3",
   "version": "3.5.2"
  }
 },
 "nbformat": 4,
 "nbformat_minor": 1
}

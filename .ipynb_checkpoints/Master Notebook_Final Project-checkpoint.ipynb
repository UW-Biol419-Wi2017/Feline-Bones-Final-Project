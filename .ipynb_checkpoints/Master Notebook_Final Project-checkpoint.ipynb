{
 "cells": [
  {
   "cell_type": "code",
   "execution_count": 1,
   "metadata": {
    "collapsed": false
   },
   "outputs": [
    {
     "name": "stdout",
     "output_type": "stream",
     "text": [
      "The Cranial dataset has (77,) unique species, and (338, 52) samples.\n",
      "The Forelimb dataset has (95,) unique species, and (323, 61) samples.\n"
     ]
    }
   ],
   "source": [
    "import numpy as np\n",
    "import pandas as pd\n",
    "%matplotlib inline\n",
    "\n",
    "import os\n",
    "os.getcwd()\n",
    "\n",
    "Cranial = pd.read_csv('/Users/88firefly/Feline-Bones-Final-Project/data/Felidae Cranial Data.csv',delimiter=',')\n",
    "Forelimb= pd.read_csv('/Users/88firefly/Feline-Bones-Final-Project/data/Felidae and Canidae postcranial database.csv',delimiter=',')\n",
    "\n",
    "Forelimb_Data=Forelimb.values[:261,:] #cut out dogs\n",
    "\n",
    "Forelimb_genusID=Forelimb_Data[:,2]\n",
    "Forelimb_speciesID=Forelimb_Data[:,3]\n",
    "Forelimb_sexID=Forelimb_Data[:,4]\n",
    "\n",
    "Cranial_Data=Cranial.values\n",
    "\n",
    "Cranial_genusID=Cranial_Data[:,2]\n",
    "Cranial_speciesID=Cranial_Data[:,3]\n",
    "Cranial_sexID=Cranial_Data[:,4]\n",
    "\n",
    "print(\"The Cranial dataset has\", np.unique(Cranial[['Species']]).shape, \"unique species, and\", Cranial.shape, \"samples.\")\n",
    "print(\"The Forelimb dataset has\", np.unique(Forelimb[['Species']]).shape, \"unique species, and\", Forelimb.shape, \"samples.\")\n",
    "\n"
   ]
  },
  {
   "cell_type": "code",
   "execution_count": 2,
   "metadata": {
    "collapsed": true
   },
   "outputs": [],
   "source": [
    "ComboData_All=Cranial.merge(Forelimb,how='outer', on=None, left_on='Catalog no.', right_on='Catalog no.')\n",
    "ComboData_Shared=Cranial.merge(Forelimb,how='inner', on=None, left_on='Catalog no.', right_on='Catalog no.')"
   ]
  },
  {
   "cell_type": "code",
   "execution_count": 3,
   "metadata": {
    "collapsed": true
   },
   "outputs": [],
   "source": [
    "def NullsInFrame(df):\n",
    "    if df.isnull().values.any() == True:\n",
    "        df_a = df.isnull().sum().sum()\n",
    "        df_b = df.shape[0]*df.shape[1]\n",
    "        print(\"There are\", df_a, \"NaN(s) out of,\", df_b ,\"total cells, which is\", 100*df_a/df_b,\"% of the data.\"  )\n",
    "    else:\n",
    "        print(\"No NaN\")"
   ]
  },
  {
   "cell_type": "code",
   "execution_count": 4,
   "metadata": {
    "collapsed": false
   },
   "outputs": [
    {
     "name": "stdout",
     "output_type": "stream",
     "text": [
      "There are 439 NaN(s) out of, 17576 total cells, which is 2.4977241693218026 % of the data.\n"
     ]
    }
   ],
   "source": [
    "NullsInFrame(Cranial)"
   ]
  },
  {
   "cell_type": "code",
   "execution_count": 5,
   "metadata": {
    "collapsed": false
   },
   "outputs": [
    {
     "name": "stdout",
     "output_type": "stream",
     "text": [
      "There are 2694 NaN(s) out of, 19703 total cells, which is 13.673044714002943 % of the data.\n"
     ]
    }
   ],
   "source": [
    "NullsInFrame(Forelimb)"
   ]
  },
  {
   "cell_type": "code",
   "execution_count": 6,
   "metadata": {
    "collapsed": false
   },
   "outputs": [
    {
     "name": "stdout",
     "output_type": "stream",
     "text": [
      "There are 917 NaN(s) out of, 12096 total cells, which is 7.581018518518518 % of the data.\n"
     ]
    }
   ],
   "source": [
    "NullsInFrame(ComboData_Shared)"
   ]
  },
  {
   "cell_type": "code",
   "execution_count": 7,
   "metadata": {
    "collapsed": false
   },
   "outputs": [
    {
     "name": "stdout",
     "output_type": "stream",
     "text": [
      "There are 27959 NaN(s) out of, 62048 total cells, which is 45.06027591542032 % of the data.\n"
     ]
    }
   ],
   "source": [
    "NullsInFrame(ComboData_All)"
   ]
  },
  {
   "cell_type": "code",
   "execution_count": null,
   "metadata": {
    "collapsed": true
   },
   "outputs": [],
   "source": []
  }
 ],
 "metadata": {
  "anaconda-cloud": {},
  "kernelspec": {
   "display_name": "Python [default]",
   "language": "python",
   "name": "python3"
  },
  "language_info": {
   "codemirror_mode": {
    "name": "ipython",
    "version": 3
   },
   "file_extension": ".py",
   "mimetype": "text/x-python",
   "name": "python",
   "nbconvert_exporter": "python",
   "pygments_lexer": "ipython3",
   "version": "3.5.2"
  }
 },
 "nbformat": 4,
 "nbformat_minor": 1
}

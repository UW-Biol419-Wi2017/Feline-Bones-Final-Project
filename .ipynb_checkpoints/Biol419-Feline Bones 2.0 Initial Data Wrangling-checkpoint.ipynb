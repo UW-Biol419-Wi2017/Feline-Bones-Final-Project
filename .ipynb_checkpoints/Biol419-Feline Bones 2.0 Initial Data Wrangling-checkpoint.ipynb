{
 "cells": [
  {
   "cell_type": "markdown",
   "metadata": {},
   "source": [
    "JUPYTER NOTEBOOK FOR FELINE DATA ANALYSIS"
   ]
  },
  {
   "cell_type": "code",
   "execution_count": 1,
   "metadata": {
    "collapsed": false
   },
   "outputs": [
    {
     "name": "stdout",
     "output_type": "stream",
     "text": [
      "The Cranial dataset has (77,) unique species, and (338, 52) samples.\n",
      "The Forelimb dataset has (95,) unique species, and (323, 61) samples.\n"
     ]
    }
   ],
   "source": [
    "\n",
    "import numpy as np\n",
    "import pandas as pd\n",
    "%matplotlib inline\n",
    "\n",
    "import os\n",
    "os.getcwd()\n",
    "\n",
    "Cranial = pd.read_csv('/Users/88firefly/Feline-Bones-Final-Project/data/Felidae Cranial Data.csv',delimiter=',')\n",
    "Forelimb= pd.read_csv('/Users/88firefly/Feline-Bones-Final-Project/data/Felidae and Canidae postcranial database.csv',delimiter=',')\n",
    "\n",
    "Forelimb_Data=Forelimb.values[:261,:] #cut out dogs\n",
    "\n",
    "Forelimb_genusID=Forelimb_Data[:,2]\n",
    "Forelimb_speciesID=Forelimb_Data[:,3]\n",
    "Forelimb_sexID=Forelimb_Data[:,4]\n",
    "\n",
    "Cranial_Data=Cranial.values\n",
    "\n",
    "Cranial_genusID=Cranial_Data[:,2]\n",
    "Cranial_speciesID=Cranial_Data[:,3]\n",
    "Cranial_sexID=Cranial_Data[:,4]\n",
    "\n",
    "print(\"The Cranial dataset has\", np.unique(Cranial[['Species']]).shape, \"unique species, and\", Cranial.shape, \"samples.\")\n",
    "print(\"The Forelimb dataset has\", np.unique(Forelimb[['Species']]).shape, \"unique species, and\", Forelimb.shape, \"samples.\")\n"
   ]
  },
  {
   "cell_type": "code",
   "execution_count": null,
   "metadata": {
    "collapsed": true
   },
   "outputs": [],
   "source": []
  }
 ],
 "metadata": {
  "anaconda-cloud": {},
  "kernelspec": {
   "display_name": "Python [default]",
   "language": "python",
   "name": "python3"
  },
  "language_info": {
   "codemirror_mode": {
    "name": "ipython",
    "version": 3
   },
   "file_extension": ".py",
   "mimetype": "text/x-python",
   "name": "python",
   "nbconvert_exporter": "python",
   "pygments_lexer": "ipython3",
   "version": "3.5.2"
  }
 },
 "nbformat": 4,
 "nbformat_minor": 1
}

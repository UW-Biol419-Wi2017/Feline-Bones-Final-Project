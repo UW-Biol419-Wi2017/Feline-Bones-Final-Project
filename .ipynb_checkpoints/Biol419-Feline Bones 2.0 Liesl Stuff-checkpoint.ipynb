{
 "cells": [
  {
   "cell_type": "markdown",
   "metadata": {},
   "source": [
    "JUPYTER NOTEBOOK FOR FELINE DATA ANALYSIS"
   ]
  },
  {
   "cell_type": "code",
   "execution_count": 1,
   "metadata": {
    "collapsed": false
   },
   "outputs": [
    {
     "name": "stdout",
     "output_type": "stream",
     "text": [
      "The Cranial dataset has (77,) unique species, and (338, 52) samples.\n",
      "The Forelimb dataset has (95,) unique species, and (323, 61) samples.\n"
     ]
    },
    {
     "data": {
      "text/plain": [
       "numpy.ndarray"
      ]
     },
     "execution_count": 1,
     "metadata": {},
     "output_type": "execute_result"
    }
   ],
   "source": [
    "\n",
    "import numpy as np\n",
    "import pandas as pd\n",
    "%matplotlib inline\n",
    "\n",
    "import os\n",
    "os.getcwd()\n",
    "\n",
    "Cranial = pd.read_csv('/Users/88firefly/Feline-Bones-Final-Project/data/Felidae Cranial Data.csv',delimiter=',')\n",
    "Forelimb= pd.read_csv('/Users/88firefly/Feline-Bones-Final-Project/data/Felidae and Canidae postcranial database.csv',delimiter=',')\n",
    "\n",
    "Forelimb_Data=Forelimb.values[:261,:] #cut out dogs\n",
    "\n",
    "Forelimb_genusID=Forelimb_Data[:,2]\n",
    "Forelimb_speciesID=Forelimb_Data[:,3]\n",
    "Forelimb_sexID=Forelimb_Data[:,4]\n",
    "\n",
    "Cranial_Data=Cranial.values\n",
    "\n",
    "Cranial_genusID=Cranial_Data[:,2]\n",
    "Cranial_speciesID=Cranial_Data[:,3]\n",
    "Cranial_sexID=Cranial_Data[:,4]\n",
    "\n",
    "\n",
    "print(\"The Cranial dataset has\", np.unique(Cranial[['Species']]).shape, \"unique species, and\", Cranial.shape, \"samples.\")\n",
    "print(\"The Forelimb dataset has\", np.unique(Forelimb[['Species']]).shape, \"unique species, and\", Forelimb.shape, \"samples.\")\n",
    "\n",
    "\n",
    "type(Cranial_speciesID)"
   ]
  },
  {
   "cell_type": "code",
   "execution_count": 2,
   "metadata": {
    "collapsed": false
   },
   "outputs": [
    {
     "data": {
      "text/plain": [
       "(323, 61)"
      ]
     },
     "execution_count": 2,
     "metadata": {},
     "output_type": "execute_result"
    }
   ],
   "source": [
    "Forelimb.shape"
   ]
  },
  {
   "cell_type": "code",
   "execution_count": 3,
   "metadata": {
    "collapsed": false
   },
   "outputs": [
    {
     "name": "stdout",
     "output_type": "stream",
     "text": [
      "<bound method NDFrame.head of     Museum_x Catalog no.       Genus_x                Species_x    Sex_x  \\\n",
      "0        MVZ      184066      Acinonyx                  jubatus  unknown   \n",
      "1       FMNH       34589      Acinonyx                  jubatus     male   \n",
      "2       FMNH       34589      Acinonyx                  jubatus     male   \n",
      "3       FMNH      135042      Caracal                   caracal  unknown   \n",
      "4       USNM      384162      Caracal                   caracal   female   \n",
      "5       FMNH       72804      Catopuma               temminckii   female   \n",
      "6       USNM      339645      Catopuma               temminckii  unknown   \n",
      "7       USNM      362188      Catopuma               temminckii   female   \n",
      "8       USNM      395843      Catopuma               temminckii   female   \n",
      "9       FMNH       98908      Catopuma               temminckii     male   \n",
      "10      USNM      176049         Felis            chaus affinis   female   \n",
      "11      FMNH      159995         Felis                margarita   female   \n",
      "12      FMNH      127295         Felis                margarita     male   \n",
      "13      FMNH      127296         Felis                margarita     male   \n",
      "14      FMNH       60613         Felis                margarita     male   \n",
      "15      USNM      395519         Felis                 nigripes   female   \n",
      "16      USNM      395838         Felis                 nigripes     male   \n",
      "17      USNM      395135         Felis                 nigripes     male   \n",
      "18      LACM       41786         Felis               silvestris   female   \n",
      "19      LACM       56696         Felis               silvestris     male   \n",
      "20      FMNH      127835         Felis       silvestris ugandae     male   \n",
      "21       MVZ       98311   Herpailurus               yaguarondi  unknown   \n",
      "22       MVZ      113296   Herpailurus               yaguarondi   female   \n",
      "23       MVZ      112248     Leopardus                 pardalis  unknown   \n",
      "24      LACM       90775     Leopardus                 pardalis     male   \n",
      "25      FMNH       94319    Leopardus          tigrinus guttula     male   \n",
      "26      FMNH       70569    Leopardus      tigrinus pardinoides   female   \n",
      "27      FMNH       70570    Leopardus      tigrinus pardinoides   female   \n",
      "28      FMNH       70571    Leopardus      tigrinus pardinoides     male   \n",
      "29      FMNH       70572    Leopardus      tigrinus pardinoides   female   \n",
      "..       ...         ...           ...                      ...      ...   \n",
      "78      FMNH      127297      Panthera                    uncia   female   \n",
      "79      FMNH      187454      Panthera                    uncia   female   \n",
      "80       MVZ      124189      Panthera                    uncia     male   \n",
      "81      FMNH      160000      Panthera                    uncia   female   \n",
      "82      FMNH      122235      Panthera                    uncia     male   \n",
      "83      FMNH       60413      Panthera                    uncia    male?   \n",
      "84      FMNH      129395    Pardofelis                marmorata  unknown   \n",
      "85      USNM      325000    Pardofelis                marmorata  unknown   \n",
      "86      FMNH       60020    Pardofelis                marmorata   female   \n",
      "87      USNM      239326    Pardofelis                marmorata     male   \n",
      "88      FMNH      104901    Pardofelis               marmorata    female   \n",
      "89      FMNH       68728    Pardofelis      marmorata marmorata   female   \n",
      "90      FMNH       60358    Pardofelis      marmorata marmorata  unknown   \n",
      "91      FMNH       99363  Prionailurus  bengalensis borneoensis     male   \n",
      "92      FMNH      101977  Prionailurus    bengalensis euptilura     male   \n",
      "93      FMNH      129397  Prionailurus                planiceps   female   \n",
      "94      FMNH       58951  Prionailurus                planiceps   female   \n",
      "95      FMNH       60476  Prionailurus                planiceps     male   \n",
      "96      FMNH      127432  Prionailurus                planiceps     male   \n",
      "97      FMNH      127433  Prionailurus                planiceps   female   \n",
      "98      FMNH      147997  Prionailurus                planiceps     male   \n",
      "99      FMNH       60672  Prionailurus               viverrinus   female   \n",
      "100     FMNH      123070  Prionailurus               viverrinus   female   \n",
      "101     FMNH      168869  Prionailurus               viverrinus     male   \n",
      "102     FMNH      121528      Profelis                   aurata   female   \n",
      "103     USNM      282637      Profelis                   aurata     male   \n",
      "104     USNM      278523      Profelis                   aurata     male   \n",
      "105      MVZ      175990          Puma                 concolor     male   \n",
      "106      MVZ      175989          Puma                 concolor     male   \n",
      "107      MVZ       81547          Puma                 concolor  unknown   \n",
      "\n",
      "              Country_x             State/Region_x    SKL   BCL    FL  \\\n",
      "0               unknown                        NaN  178.2  49.4  63.5   \n",
      "1              Botswana                        NaN  194.7  34.0  79.5   \n",
      "2              Botswana                        NaN  194.7  34.0  79.5   \n",
      "3                Israel                        NaN  116.0  34.7  46.2   \n",
      "4              Botswana                    Khumaha  124.1  36.0  49.0   \n",
      "5             Zoo/India                        NaN  116.6  34.1  46.8   \n",
      "6                   Zoo                        NaN  117.6  36.1  44.3   \n",
      "7                   Zoo                        NaN  127.9  35.6  50.3   \n",
      "8                   Zoo                        NaN  133.0  42.4  48.9   \n",
      "9             Zoo/Nepal                        NaN  135.3  39.4  49.4   \n",
      "10                India                    Kashmir  102.2  30.6  39.0   \n",
      "11                  Zoo                        NaN   84.7  27.6  28.1   \n",
      "12             Zoo/Asia                        NaN   89.7  20.2  32.3   \n",
      "13             Zoo/Asia                        NaN   91.7  29.0  31.6   \n",
      "14             Zoo/Asia                        NaN   95.1  23.9  32.3   \n",
      "15                  Zoo                        NaN   77.3  23.0  28.2   \n",
      "16                  Zoo                        NaN   77.8  25.2  28.7   \n",
      "17                  Zoo                        NaN   81.9  26.5  30.3   \n",
      "18              Namibia                        NaN   83.2  42.7  31.6   \n",
      "19              Namibia                        NaN   95.3  49.2  37.6   \n",
      "20             Tanzania           Serengeti Plains  100.0  30.4  39.1   \n",
      "21          El Salvador                        NaN   92.9  34.5  33.5   \n",
      "22             Colombia                        NaN   95.5  35.4  35.1   \n",
      "23        United States                 California  128.6  38.8  45.8   \n",
      "24                  NaN                        NaN  137.0  70.3  52.7   \n",
      "25               Brazil                  Sao Paulo   82.6  27.6  29.2   \n",
      "26             Colombia                      Huila   81.0  28.2  28.1   \n",
      "27             Colombia               Cundinamarca   84.6  27.1  33.5   \n",
      "28             Colombia               Cundinamarca   84.8  22.2  30.3   \n",
      "29             Colombia               Cundinamarca   85.4  22.5  30.9   \n",
      "..                  ...                        ...    ...   ...   ...   \n",
      "78             Zoo/Asia                        NaN  180.8  53.3  77.4   \n",
      "79                  Zoo                        NaN  185.4  57.3  76.6   \n",
      "80              unknown                        NaN  186.2  31.0  75.3   \n",
      "81             Zoo/Asia                        NaN  191.7  54.1  78.9   \n",
      "82             Zoo/Asia                        NaN  194.5  51.0  80.8   \n",
      "83             Zoo/Asia                        NaN  201.8  58.1  85.4   \n",
      "84   Zoo/Southeast Asia                        NaN   82.7  27.2  29.1   \n",
      "85            Indonesia                    Sumatra   86.1  23.9  31.2   \n",
      "86   Zoo/Southeast Asia                        NaN   86.5  26.5  30.1   \n",
      "87                  Zoo                        NaN   94.7  28.2  36.1   \n",
      "88         Zoo/ S. Asia                        NaN   95.3  29.4  34.2   \n",
      "89             Malaysia                      Sabah   89.3  25.8  31.3   \n",
      "90             Thailand                        NaN  102.9  32.2  37.3   \n",
      "91             Malaysia                    Sarawak   84.5  25.8  33.2   \n",
      "92   Zoo/Southeast Asia                        NaN  107.0  28.7  42.4   \n",
      "93   Zoo/Southeast Asia                        NaN   93.7  30.3  37.3   \n",
      "94   Zoo/Southeast Asia                        NaN   98.2  30.0  37.3   \n",
      "95   Zoo/Southeast Asia                        NaN  100.6  34.6  39.4   \n",
      "96   Zoo/Southeast Asia                        NaN  103.5  33.7  39.1   \n",
      "97   Zoo/Southeast Asia                        NaN  103.6  35.0  39.5   \n",
      "98                  Zoo                        NaN  104.0  24.7  39.8   \n",
      "99   Zoo/Southeast Asia                        NaN  126.6  34.2  50.3   \n",
      "100  Zoo/Southeast Asia                        NaN  134.1  40.6  50.3   \n",
      "101                 Zoo                        NaN  144.0  45.5  55.0   \n",
      "102          Zoo/Africa                        NaN  120.8  38.3  47.6   \n",
      "103                 Zoo                        NaN  152.1  44.7  56.2   \n",
      "104                 Zoo                        NaN  155.7  45.6  58.8   \n",
      "105                U.S.      California; Livermore  182.1  57.5  71.6   \n",
      "106                U.S.      California; Kernville  201.9  60.8  78.7   \n",
      "107                U.S.  Montana; Bitterroot river  224.7  68.0  90.0   \n",
      "\n",
      "        ...      APD phprox  BS phprox  GL phmed  MLP phmed  APP phmed  \\\n",
      "0       ...             8.5        7.7      22.2       10.5        8.7   \n",
      "1       ...             8.5        8.8      27.3       13.1       11.5   \n",
      "2       ...             NaN        NaN       NaN        NaN        NaN   \n",
      "3       ...             4.3        4.1      13.9        6.2        6.0   \n",
      "4       ...             5.0        4.5       NaN        NaN        NaN   \n",
      "5       ...             4.9        4.6      16.0        5.8        5.5   \n",
      "6       ...             5.3        3.9      15.4        6.2        5.4   \n",
      "7       ...             5.1        4.9      13.6        6.2        6.1   \n",
      "8       ...             4.6        4.3       NaN        NaN        NaN   \n",
      "9       ...             5.3        4.4       NaN        NaN        NaN   \n",
      "10      ...             NaN        NaN       NaN        NaN        NaN   \n",
      "11      ...             2.9        2.0      11.6        4.4        4.0   \n",
      "12      ...             3.3        2.8      12.5        4.2        4.4   \n",
      "13      ...             3.5        2.8      11.9        4.4        3.9   \n",
      "14      ...             3.3        2.5      12.2        4.2        3.9   \n",
      "15      ...             2.4        2.2       8.4        3.0        3.1   \n",
      "16      ...             2.5        1.9       NaN        NaN        NaN   \n",
      "17      ...             2.7        2.2       NaN        NaN        NaN   \n",
      "18      ...             3.4        3.3       NaN        NaN        NaN   \n",
      "19      ...             NaN        NaN       NaN        NaN        NaN   \n",
      "20      ...             3.5        3.5      12.6        5.3        4.5   \n",
      "21      ...             3.1        3.6       9.2        4.0        3.5   \n",
      "22      ...             3.7        3.8       9.5        5.2        4.4   \n",
      "23      ...             NaN        NaN       NaN        NaN        NaN   \n",
      "24      ...             5.0        6.0      16.2        7.8        6.7   \n",
      "25      ...             NaN        NaN       NaN        NaN        NaN   \n",
      "26      ...             2.6        3.3       NaN        NaN        NaN   \n",
      "27      ...             3.1        3.1       NaN        NaN        NaN   \n",
      "28      ...             3.2        3.2       NaN        NaN        NaN   \n",
      "29      ...             3.2        NaN       NaN        NaN        NaN   \n",
      "..      ...             ...        ...       ...        ...        ...   \n",
      "78      ...             8.1        7.6      28.0       10.6        9.9   \n",
      "79      ...             8.3        7.9      30.6       11.6       10.7   \n",
      "80      ...             NaN        NaN       NaN        NaN        NaN   \n",
      "81      ...             7.8        8.1      25.7       10.1        8.6   \n",
      "82      ...             8.3        8.1      32.4       11.7       10.9   \n",
      "83      ...             9.1        9.5      31.4       12.3       10.9   \n",
      "84      ...             3.4        2.7      14.8        4.9        4.1   \n",
      "85      ...             NaN        NaN       NaN        NaN        NaN   \n",
      "86      ...             3.6        3.7      10.9        5.0        5.0   \n",
      "87      ...             3.7        3.7      12.9        5.4        5.0   \n",
      "88      ...             3.9        4.2       NaN        NaN        NaN   \n",
      "89      ...             3.3        3.8      11.9        4.7        4.0   \n",
      "90      ...             3.7        4.1      13.5        5.4        4.5   \n",
      "91      ...             NaN        NaN       NaN        NaN        NaN   \n",
      "92      ...             3.8        3.7      14.4        5.0        4.6   \n",
      "93      ...             2.7        2.6       9.3        4.0        3.2   \n",
      "94      ...             2.7        3.1       8.8        4.6        3.7   \n",
      "95      ...             3.1        3.1       NaN        NaN        NaN   \n",
      "96      ...             2.7        3.0       9.8        4.4        3.5   \n",
      "97      ...             3.1        3.9      10.3        5.3        4.0   \n",
      "98      ...             2.9        3.1       9.1        5.5        3.9   \n",
      "99      ...             4.8        4.6      15.5        5.9        5.8   \n",
      "100     ...             4.4        4.7      15.0        6.0        5.2   \n",
      "101     ...             4.5        4.7      16.4        6.1        5.6   \n",
      "102     ...             4.9        4.9      17.9        6.8        6.7   \n",
      "103     ...             5.3        5.5       NaN        NaN        NaN   \n",
      "104     ...             5.5        5.6       NaN        NaN        NaN   \n",
      "105     ...             9.6        7.6      27.0       12.5        9.3   \n",
      "106     ...             9.1        9.4      29.7       11.9       11.6   \n",
      "107     ...             9.0        9.2      28.0       13.0       11.4   \n",
      "\n",
      "     MLD phmed  APD phmed  BS phmed  PAL scapho  PAW scapho  \n",
      "0          9.8        6.4       5.9        22.3        13.8  \n",
      "1         12.0        8.6       9.9        24.8        15.0  \n",
      "2          NaN        NaN       NaN        24.6        16.6  \n",
      "3          5.7        4.9       3.3        11.9         8.8  \n",
      "4          NaN        NaN       NaN        12.8         9.7  \n",
      "5          5.3        4.2       2.9        12.7         9.7  \n",
      "6          5.8        3.9       3.5        11.8         9.6  \n",
      "7          6.0        5.2       4.1        11.7        10.3  \n",
      "8          NaN        NaN       NaN        12.5        10.0  \n",
      "9          NaN        NaN       NaN        14.0        10.3  \n",
      "10         NaN        NaN       NaN        10.7         7.8  \n",
      "11         3.8        2.7       1.3         7.4         5.1  \n",
      "12         4.4        3.3       2.1         7.5         5.7  \n",
      "13         4.2        3.3       2.0         8.0         5.6  \n",
      "14         3.9        3.1       2.3         7.9         5.4  \n",
      "15         2.6        2.1       1.1         6.7         4.5  \n",
      "16         NaN        NaN       NaN         5.9         4.5  \n",
      "17         NaN        NaN       NaN         6.9         5.2  \n",
      "18         NaN        NaN       NaN         NaN         NaN  \n",
      "19         NaN        NaN       NaN         NaN         NaN  \n",
      "20         4.4        3.5       2.7         8.7         6.5  \n",
      "21         3.5        2.5       2.9         9.1         6.3  \n",
      "22         4.6        3.3       3.9         9.4         7.1  \n",
      "23         NaN        NaN       NaN         NaN         NaN  \n",
      "24         6.5        4.9       4.3        15.2        10.6  \n",
      "25         NaN        NaN       NaN         NaN         NaN  \n",
      "26         NaN        NaN       NaN         6.4         5.1  \n",
      "27         NaN        NaN       NaN         6.5         5.3  \n",
      "28         NaN        NaN       NaN         7.5         6.3  \n",
      "29         NaN        NaN       NaN         6.8         4.8  \n",
      "..         ...        ...       ...         ...         ...  \n",
      "78         9.2        6.7       4.8        22.7        15.4  \n",
      "79        10.1        7.3       5.9        25.0        16.9  \n",
      "80         NaN        NaN       NaN         NaN         NaN  \n",
      "81         9.2        7.3       6.1         NaN         NaN  \n",
      "82        10.7        7.8       5.7        25.4        17.2  \n",
      "83        11.1        8.1       7.0        27.3        17.6  \n",
      "84         4.1        3.3       2.3         8.3         5.9  \n",
      "85         NaN        NaN       NaN         9.6         6.0  \n",
      "86         4.4        3.2       2.8         8.8         5.7  \n",
      "87         4.5        3.2       3.1         9.4         6.4  \n",
      "88         NaN        NaN       NaN         9.2         6.1  \n",
      "89         4.1        3.1       2.7         8.4         6.3  \n",
      "90         4.6        3.7       3.2        10.8         7.0  \n",
      "91         NaN        NaN       NaN         NaN         NaN  \n",
      "92         4.7        3.8       2.6        10.0         7.4  \n",
      "93         3.5        2.7       1.9         6.4         5.7  \n",
      "94         3.7        2.6       2.4         6.5         5.6  \n",
      "95         NaN        NaN       NaN         7.4         5.6  \n",
      "96         3.5        2.5       2.2         8.3         6.1  \n",
      "97         4.1        3.2       2.7         8.7         6.9  \n",
      "98         4.0        3.1       2.6         7.6         7.0  \n",
      "99         5.4        4.1       2.8        10.8         9.0  \n",
      "100        5.5        4.3       3.1        11.1         8.6  \n",
      "101        6.2        4.4       3.6        12.9         8.9  \n",
      "102        5.9        4.7       3.2        11.2        10.3  \n",
      "103        NaN        NaN       NaN        15.4        12.2  \n",
      "104        NaN        NaN       NaN        14.1        10.4  \n",
      "105       11.9        6.1       7.1        21.8        15.1  \n",
      "106       11.5        8.8       6.5        23.2        15.9  \n",
      "107       11.7        8.6       8.8        25.7        19.4  \n",
      "\n",
      "[108 rows x 112 columns]>\n"
     ]
    }
   ],
   "source": [
    "ComboData_All=Cranial.merge(Forelimb,how='outer', on=None, left_on='Catalog no.', right_on='Catalog no.')\n",
    "ComboData_Shared=Cranial.merge(Forelimb,how='inner', on=None, left_on='Catalog no.', right_on='Catalog no.')\n",
    "print(ComboData_Shared.head)"
   ]
  },
  {
   "cell_type": "code",
   "execution_count": 4,
   "metadata": {
    "collapsed": false
   },
   "outputs": [],
   "source": [
    "ComboShared_Data=ComboData_Shared.values\n",
    "ComboAll_Data=ComboData_All.values"
   ]
  },
  {
   "cell_type": "code",
   "execution_count": 5,
   "metadata": {
    "collapsed": false
   },
   "outputs": [],
   "source": [
    "from sklearn.preprocessing import Imputer\n",
    "\n",
    "\n",
    "ComboShared_NumData=np.delete(ComboShared_Data,np.arange(52,58),axis=1)#52-57 unnecessary repeats\n",
    "\n",
    "\n",
    "ComboShared_speciesID=ComboShared_NumData[:,3]\n",
    "ComboShared_genusID=ComboShared_NumData[:,2]\n",
    "ComboShared_sexID=ComboShared_NumData[:,4]"
   ]
  },
  {
   "cell_type": "code",
   "execution_count": 6,
   "metadata": {
    "collapsed": false
   },
   "outputs": [],
   "source": [
    "imp=Imputer(missing_values='NaN', strategy='mean', axis=0, copy=True)\n",
    "Cranial_filled_data=imp.fit_transform(Cranial_Data[:,7:])\n",
    "Forelimb_filled_data=imp.fit_transform(Forelimb_Data[:,7:])\n",
    "ComboShared_filled_data=imp.fit_transform(ComboShared_NumData[:,7:])\n"
   ]
  },
  {
   "cell_type": "code",
   "execution_count": 7,
   "metadata": {
    "collapsed": false
   },
   "outputs": [],
   "source": [
    "from sklearn.decomposition import PCA\n",
    "\n",
    "def test_train_Graphpca(original_pf, df_value, df_ind, test_percent):\n",
    "    #create test and train indices\n",
    "    L = len(df_value)\n",
    "    train_ind = np.random.choice(np.arange(0,len(df_ind)), size=(len(df_ind)*test_percent), replace=False, p=None)\n",
    "    test_ind = np.setdiff1d(np.arange(0,L), train_ind)\n",
    "    \n",
    "    #run pca on test data\n",
    "    test_pca = PCA()\n",
    "    test_pca.fit(df_value[train_ind,:], df_ind[train_ind])\n",
    "    explained_variance = test_pca.explained_variance_ratio_\n",
    "    \n",
    "    #first and second component graph\n",
    "    value_pca = test_pca.transform(df_value)\n",
    "    for sp in set(df_ind):\n",
    "        myspecies = original_pf.str.contains(sp)\n",
    "        p = plt.plot(value_pca[np.ix_(myspecies), 0].flatten(),\n",
    "            value_pca[np.ix_(myspecies), 1].flatten(),\n",
    "            '.', label = sp)\n",
    "        plt.xlabel('PC1')\n",
    "        plt.ylabel('PC2')\n",
    "        plt.legend(loc = 'center left',bbox_to_anchor=(1, .5))\n",
    "    return(p)\n"
   ]
  },
  {
   "cell_type": "markdown",
   "metadata": {
    "collapsed": true
   },
   "source": []
  },
  {
   "cell_type": "code",
   "execution_count": 25,
   "metadata": {
    "collapsed": true
   },
   "outputs": [],
   "source": [
    "def test_train(df_value, df_ind, test_percent):\n",
    "    #create test and train indices\n",
    "    L = len(df_value)\n",
    "    train_ind = np.random.choice(np.arange(0,len(df_ind)), size=(len(df_ind)*test_percent), replace=False, p=None)\n",
    "    test_ind = np.setdiff1d(np.arange(0,L), train_ind)\n",
    "    \n",
    "    test = df_value[test_ind,:]\n",
    "   \n",
    "    train = df_value[train_ind,:]\n",
    "    return train,test"
   ]
  },
  {
   "cell_type": "code",
   "execution_count": 35,
   "metadata": {
    "collapsed": false
   },
   "outputs": [
    {
     "name": "stderr",
     "output_type": "stream",
     "text": [
      "/Users/88firefly/anaconda/lib/python3.5/site-packages/ipykernel/__main__.py:4: VisibleDeprecationWarning: using a non-integer number instead of an integer will result in an error in the future\n"
     ]
    },
    {
     "data": {
      "text/plain": [
       "0.021323529411764706"
      ]
     },
     "execution_count": 35,
     "metadata": {},
     "output_type": "execute_result"
    }
   ],
   "source": [
    "from sklearn.neighbors import KNeighborsClassifier\n",
    "svc_model=identify = SVC()\n",
    "\n",
    "kn_model=KNeighborsClassifier()\n",
    "\n",
    "\n",
    "def cross_val_class_accuracy(model, df_value, df_ind, r, test_percent, reps):\n",
    "    test_pca = PCA()\n",
    "    \n",
    "    score = np.array([])\n",
    "    for i in range(reps):\n",
    "        train, test = test_train(df_value, df_ind, test_percent)\n",
    "        y_train = df_ind[train_ind]\n",
    "        y_test = df_ind[test_ind]\n",
    "        \n",
    "        X_train = test_pca.fit_transform(train)[:, :r]\n",
    "        X_test = test_pca.transform(test)[:, :r]\n",
    "        \n",
    "        model.fit(X_train, y_train)\n",
    "        \n",
    "        pred = model.predict(X_test)\n",
    "        this_score = sum(pred == y_test) / len(y_test)\n",
    "        \n",
    "        score = np.append(score, this_score)\n",
    "        avg_score=np.mean(score)\n",
    "    return avg_score\n",
    "\n",
    "cross_val_class_accuracy(kn_model, Cranial_filled_data, Cranial_speciesID, 10, 0.8, 100)"
   ]
  },
  {
   "cell_type": "code",
   "execution_count": 26,
   "metadata": {
    "collapsed": false
   },
   "outputs": [
    {
     "name": "stderr",
     "output_type": "stream",
     "text": [
      "/Users/88firefly/anaconda/lib/python3.5/site-packages/ipykernel/__main__.py:4: VisibleDeprecationWarning: using a non-integer number instead of an integer will result in an error in the future\n",
      "/Users/88firefly/anaconda/lib/python3.5/site-packages/ipykernel/__main__.py:6: VisibleDeprecationWarning: using a non-integer number instead of an integer will result in an error in the future\n"
     ]
    },
    {
     "data": {
      "text/plain": [
       "0.029411764705882353"
      ]
     },
     "execution_count": 26,
     "metadata": {},
     "output_type": "execute_result"
    }
   ],
   "source": [
    "\n",
    "\n",
    "\n",
    "\n",
    "\n",
    "\n",
    "\n",
    "from sklearn.svm import SVC\n",
    "\n",
    "test_train(Cranial_filled_data, Cranial_speciesID, 0.8)\n",
    "\n",
    "L = len(Cranial_speciesID)\n",
    "train_ind = np.random.choice(np.arange(0,len(Cranial_speciesID)), size=(len(Cranial_speciesID)*0.8), replace=False, p=None)\n",
    "test_ind = np.setdiff1d(np.arange(0,L), train_ind)\n",
    "    \n",
    "test = Cranial_filled_data[test_ind,:]\n",
    "   \n",
    "train = Cranial_filled_data[train_ind,:]\n",
    "\n",
    "\n",
    "train_Ind=train[:,np.newaxis]\n",
    "test_Ind=test[:,np.newaxis]\n",
    "\n",
    "test_pca = PCA()\n",
    "\n",
    "X_train = test_pca.fit_transform(train)[:, :10]\n",
    "X_test = test_pca.transform(test)[:, :10]\n",
    "\n",
    "y_train = Cranial_speciesID[train_ind]\n",
    "y_test = Cranial_speciesID[test_ind]\n",
    "\n",
    "identify = SVC()\n",
    "\n",
    "\n",
    "# identify.fit(*training data*, *training ids*) hint: *training data* <= Swirl[train_ind,:]\n",
    "identify.fit(X_train,y_train)\n",
    "# predicted = identify.predict(*test data*)\n",
    "predicted=(identify.predict(X_test))\n",
    "\n",
    "predicted==Cranial_speciesID[test_ind]\n",
    "np.mean(predicted==Cranial_speciesID[test_ind])"
   ]
  },
  {
   "cell_type": "code",
   "execution_count": null,
   "metadata": {
    "collapsed": true
   },
   "outputs": [],
   "source": []
  }
 ],
 "metadata": {
  "anaconda-cloud": {},
  "kernelspec": {
   "display_name": "Python [default]",
   "language": "python",
   "name": "python3"
  },
  "language_info": {
   "codemirror_mode": {
    "name": "ipython",
    "version": 3
   },
   "file_extension": ".py",
   "mimetype": "text/x-python",
   "name": "python",
   "nbconvert_exporter": "python",
   "pygments_lexer": "ipython3",
   "version": "3.5.2"
  }
 },
 "nbformat": 4,
 "nbformat_minor": 1
}

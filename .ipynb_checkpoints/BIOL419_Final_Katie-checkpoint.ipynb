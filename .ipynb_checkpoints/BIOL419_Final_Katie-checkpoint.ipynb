{
 "cells": [
  {
   "cell_type": "code",
   "execution_count": 51,
   "metadata": {
    "collapsed": false,
    "scrolled": true
   },
   "outputs": [
    {
     "name": "stdout",
     "output_type": "stream",
     "text": [
      "Cranial: (338, 52) , Forelimb: (323, 61)\n"
     ]
    }
   ],
   "source": [
    "import numpy as np\n",
    "import pandas as pd\n",
    "import matplotlib as plt\n",
    "%matplotlib inline\n",
    "\n",
    "Cranial = pd.read_csv('Data/Felidae Cranial Data.csv',delimiter=',')\n",
    "Forelimb= pd.read_csv('Data/Felidae and Canidae postcranial database.csv',delimiter=',')\n",
    "\n",
    "print(\"Cranial:\", Cranial.shape,\", Forelimb:\", Forelimb.shape)"
   ]
  },
  {
   "cell_type": "code",
   "execution_count": 43,
   "metadata": {
    "collapsed": false
   },
   "outputs": [],
   "source": [
    "def NullsInFrame(df):\n",
    "    if df.isnull().values.any() == True:\n",
    "        df_a = df.isnull().sum().sum()\n",
    "        df_b = df.shape[0]*df.shape[1]\n",
    "        print(\"There are\", df_a, \"NaN(s) out of,\", df_b ,\"total cells, which is\", 100*df_a/df_b,\"% of the data.\"  )\n",
    "    else:\n",
    "        print(\"No NaN\")"
   ]
  },
  {
   "cell_type": "code",
   "execution_count": 44,
   "metadata": {
    "collapsed": false
   },
   "outputs": [
    {
     "name": "stdout",
     "output_type": "stream",
     "text": [
      "There are 439 NaN(s) out of, 17576 total cells, which is 2.4977241693218026 % of the data.\n"
     ]
    }
   ],
   "source": [
    "NullsInFrame(Cranial)"
   ]
  },
  {
   "cell_type": "code",
   "execution_count": 45,
   "metadata": {
    "collapsed": false
   },
   "outputs": [
    {
     "name": "stdout",
     "output_type": "stream",
     "text": [
      "There are 2694 NaN(s) out of, 19703 total cells, which is 13.673044714002943 % of the data.\n"
     ]
    }
   ],
   "source": [
    "NullsInFrame(Forelimb)"
   ]
  },
  {
   "cell_type": "code",
   "execution_count": null,
   "metadata": {
    "collapsed": false
   },
   "outputs": [],
   "source": []
  },
  {
   "cell_type": "code",
   "execution_count": null,
   "metadata": {
    "collapsed": true
   },
   "outputs": [],
   "source": []
  }
 ],
 "metadata": {
  "anaconda-cloud": {},
  "kernelspec": {
   "display_name": "Python [default]",
   "language": "python",
   "name": "python3"
  },
  "language_info": {
   "codemirror_mode": {
    "name": "ipython",
    "version": 3
   },
   "file_extension": ".py",
   "mimetype": "text/x-python",
   "name": "python",
   "nbconvert_exporter": "python",
   "pygments_lexer": "ipython3",
   "version": "3.5.2"
  }
 },
 "nbformat": 4,
 "nbformat_minor": 2
}
